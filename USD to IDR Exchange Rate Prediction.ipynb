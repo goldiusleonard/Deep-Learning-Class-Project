{
 "cells": [
  {
   "cell_type": "markdown",
   "metadata": {},
   "source": [
    "<font size=\"5\">Import Libraries</font>"
   ]
  },
  {
   "cell_type": "code",
   "execution_count": 31,
   "metadata": {},
   "outputs": [],
   "source": [
    "# Use tensorflow 2.x version\n",
    "\n",
    "import numpy as np\n",
    "import matplotlib.pyplot as plt\n",
    "import pandas as pd\n",
    "import math\n",
    "from keras.models import Sequential\n",
    "from keras.layers import Dense\n",
    "from keras.layers import LSTM\n",
    "from sklearn.preprocessing import MinMaxScaler\n",
    "from sklearn.metrics import mean_squared_error"
   ]
  },
  {
   "cell_type": "markdown",
   "metadata": {},
   "source": [
    "<font size=\"5\">Import Dataset</font>"
   ]
  },
  {
   "cell_type": "code",
   "execution_count": 43,
   "metadata": {},
   "outputs": [],
   "source": [
    "def create_dataset(dataset, look_back=1):\n",
    "\tX = []\n",
    "\tY = []\n",
    "\t\n",
    "\tfor i in range(len(dataset)-look_back-1):\n",
    "\t\ta = dataset[i:(i+look_back), 0]\n",
    "\t\tX.append(a)\n",
    "\t\tY.append(dataset[i + look_back, 0])\n",
    "\t\n",
    "\treturn np.array(X), np.array(Y)\n",
    "\n",
    "np.random.seed(7)"
   ]
  },
  {
   "cell_type": "markdown",
   "metadata": {},
   "source": [
    "<font size=\"4\">Show Dataset</font>"
   ]
  },
  {
   "cell_type": "code",
   "execution_count": 53,
   "metadata": {},
   "outputs": [
    {
     "data": {
      "text/html": [
       "<div>\n",
       "<style scoped>\n",
       "    .dataframe tbody tr th:only-of-type {\n",
       "        vertical-align: middle;\n",
       "    }\n",
       "\n",
       "    .dataframe tbody tr th {\n",
       "        vertical-align: top;\n",
       "    }\n",
       "\n",
       "    .dataframe thead th {\n",
       "        text-align: right;\n",
       "    }\n",
       "</style>\n",
       "<table border=\"1\" class=\"dataframe\">\n",
       "  <thead>\n",
       "    <tr style=\"text-align: right;\">\n",
       "      <th></th>\n",
       "      <th>USDIDR_Adj Close</th>\n",
       "    </tr>\n",
       "    <tr>\n",
       "      <th>Date</th>\n",
       "      <th></th>\n",
       "    </tr>\n",
       "  </thead>\n",
       "  <tbody>\n",
       "    <tr>\n",
       "      <th>2001-06-28</th>\n",
       "      <td>11448.000000</td>\n",
       "    </tr>\n",
       "    <tr>\n",
       "      <th>2001-06-29</th>\n",
       "      <td>11390.000000</td>\n",
       "    </tr>\n",
       "    <tr>\n",
       "      <th>2001-07-02</th>\n",
       "      <td>11320.000000</td>\n",
       "    </tr>\n",
       "    <tr>\n",
       "      <th>2001-07-03</th>\n",
       "      <td>11322.000000</td>\n",
       "    </tr>\n",
       "    <tr>\n",
       "      <th>2001-07-04</th>\n",
       "      <td>11365.000000</td>\n",
       "    </tr>\n",
       "    <tr>\n",
       "      <th>...</th>\n",
       "      <td>...</td>\n",
       "    </tr>\n",
       "    <tr>\n",
       "      <th>2021-08-24</th>\n",
       "      <td>14430.000000</td>\n",
       "    </tr>\n",
       "    <tr>\n",
       "      <th>2021-08-25</th>\n",
       "      <td>14448.700195</td>\n",
       "    </tr>\n",
       "    <tr>\n",
       "      <th>2021-08-26</th>\n",
       "      <td>14465.700195</td>\n",
       "    </tr>\n",
       "    <tr>\n",
       "      <th>2021-08-27</th>\n",
       "      <td>14449.299805</td>\n",
       "    </tr>\n",
       "    <tr>\n",
       "      <th>2021-08-30</th>\n",
       "      <td>14370.000000</td>\n",
       "    </tr>\n",
       "  </tbody>\n",
       "</table>\n",
       "<p>5030 rows × 1 columns</p>\n",
       "</div>"
      ],
      "text/plain": [
       "            USDIDR_Adj Close\n",
       "Date                        \n",
       "2001-06-28      11448.000000\n",
       "2001-06-29      11390.000000\n",
       "2001-07-02      11320.000000\n",
       "2001-07-03      11322.000000\n",
       "2001-07-04      11365.000000\n",
       "...                      ...\n",
       "2021-08-24      14430.000000\n",
       "2021-08-25      14448.700195\n",
       "2021-08-26      14465.700195\n",
       "2021-08-27      14449.299805\n",
       "2021-08-30      14370.000000\n",
       "\n",
       "[5030 rows x 1 columns]"
      ]
     },
     "execution_count": 53,
     "metadata": {},
     "output_type": "execute_result"
    }
   ],
   "source": [
    "dataset = data = pd.read_csv(\"./USDIDR_series.csv\", index_col=\"Date\")\n",
    "dataset.index = pd.to_datetime(dataset.index)\n",
    "dataset = dataset[[\"USDIDR_Adj Close\"]]\n",
    "dataset = dataset.sort_index()\n",
    "data = data.sort_index()\n",
    "\n",
    "dataset"
   ]
  },
  {
   "cell_type": "markdown",
   "metadata": {},
   "source": [
    "<font size=\"4\">Plot Dataset</font>"
   ]
  },
  {
   "cell_type": "code",
   "execution_count": 54,
   "metadata": {},
   "outputs": [
    {
     "data": {
      "image/png": "[encoded data removed]",
      "text/plain": [
       "<Figure size 432x288 with 1 Axes>"
      ]
     },
     "metadata": {
      "needs_background": "light"
     },
     "output_type": "display_data"
    }
   ],
   "source": [
    "dataset.plot()\n",
    "plt.title(\"USD to IDR Exchange Rate\")\n",
    "plt.show()"
   ]
  },
  {
   "cell_type": "markdown",
   "metadata": {},
   "source": [
    "<font size=\"4\">Average Closing Price</font>"
   ]
  },
  {
   "cell_type": "code",
   "execution_count": 45,
   "metadata": {},
   "outputs": [
    {
     "name": "stdout",
     "output_type": "stream",
     "text": [
      "Average Closing Price: 11067.873790581705\n"
     ]
    }
   ],
   "source": [
    "averageClosingPrice = np.average(dataset)\n",
    "print(f\"Average Closing Price: {averageClosingPrice}\")"
   ]
  },
  {
   "cell_type": "markdown",
   "metadata": {},
   "source": [
    "<font size=\"5\">Data Preprocessing & Splitting</font>"
   ]
  },
  {
   "cell_type": "markdown",
   "metadata": {},
   "source": [
    "<font size=\"4\">Data Normalization (Min-Max Scaling)</font>"
   ]
  },
  {
   "cell_type": "code",
   "execution_count": 46,
   "metadata": {},
   "outputs": [
    {
     "name": "stdout",
     "output_type": "stream",
     "text": [
      "[[0.67619255]\n",
      " [0.67247858]\n",
      " [0.66799619]\n",
      " ...\n",
      " [0.86942813]\n",
      " [0.86837794]\n",
      " [0.86330005]]\n"
     ]
    }
   ],
   "source": [
    "scaler = MinMaxScaler(feature_range=(0, 1))\n",
    "dataset = scaler.fit_transform(dataset)\n",
    "\n",
    "print(dataset)"
   ]
  },
  {
   "cell_type": "markdown",
   "metadata": {},
   "source": [
    "<font size=\"4\">Data Normalization (Min-Max Scaling)</font>"
   ]
  },
  {
   "cell_type": "code",
   "execution_count": 47,
   "metadata": {},
   "outputs": [],
   "source": [
    "train_size = int(len(dataset) * 0.8)\n",
    "test_size = len(dataset) - train_size\n",
    "train = dataset[0:train_size,:]\n",
    "test = dataset[train_size:len(dataset),:]\n",
    "\n",
    "look_back = 1\n",
    "X_train, Y_train = create_dataset(train, look_back)\n",
    "X_test, Y_test = create_dataset(test, look_back)\n",
    "\n",
    "X_train = np.reshape(X_train, (X_train.shape[0], 1, X_train.shape[1]))\n",
    "X_test = np.reshape(X_test, (X_test.shape[0], 1, X_test.shape[1]))"
   ]
  },
  {
   "cell_type": "markdown",
   "metadata": {},
   "source": [
    "<font size=\"4\">Average Closing Price (Train & Test Dataset)</font>"
   ]
  },
  {
   "cell_type": "code",
   "execution_count": 52,
   "metadata": {},
   "outputs": [
    {
     "name": "stdout",
     "output_type": "stream",
     "text": [
      "Average Train Dataset Closing Price: 10269.033240183144\n",
      "Average Test Dataset Closing Price: 14259.966608176668\n"
     ]
    }
   ],
   "source": [
    "AverageTrainClosingPrice = np.average(scaler.inverse_transform(Y_train.reshape(-1, 1)))\n",
    "AverageTestClosingPrice = np.average(scaler.inverse_transform(Y_test.reshape(-1, 1)))\n",
    "\n",
    "print(f\"Average Train Dataset Closing Price: {AverageTrainClosingPrice}\")\n",
    "print(f\"Average Test Dataset Closing Price: {AverageTestClosingPrice}\")"
   ]
  },
  {
   "cell_type": "markdown",
   "metadata": {},
   "source": [
    "<font size=\"5\">Model Creation & Training</font>"
   ]
  },
  {
   "cell_type": "code",
   "execution_count": 37,
   "metadata": {},
   "outputs": [
    {
     "name": "stdout",
     "output_type": "stream",
     "text": [
      "Epoch 1/10\n",
      "3016/3016 [==============================] - 8s 2ms/step - loss: 0.0618 - val_loss: 0.0226\n",
      "Epoch 2/10\n",
      "3016/3016 [==============================] - 6s 2ms/step - loss: 0.0010 - val_loss: 0.0119\n",
      "Epoch 3/10\n",
      "3016/3016 [==============================] - 6s 2ms/step - loss: 7.1677e-04 - val_loss: 0.0064\n",
      "Epoch 4/10\n",
      "3016/3016 [==============================] - 6s 2ms/step - loss: 4.1403e-04 - val_loss: 0.0020\n",
      "Epoch 5/10\n",
      "3016/3016 [==============================] - 6s 2ms/step - loss: 3.8780e-04 - val_loss: 2.3727e-04\n",
      "Epoch 6/10\n",
      "3016/3016 [==============================] - 6s 2ms/step - loss: 4.1772e-04 - val_loss: 3.0973e-04\n",
      "Epoch 7/10\n",
      "3016/3016 [==============================] - 6s 2ms/step - loss: 2.2195e-04 - val_loss: 2.1934e-04\n",
      "Epoch 8/10\n",
      "3016/3016 [==============================] - 6s 2ms/step - loss: 2.7170e-04 - val_loss: 2.3096e-04\n",
      "Epoch 9/10\n",
      "3016/3016 [==============================] - 5s 2ms/step - loss: 2.5865e-04 - val_loss: 2.0043e-04\n",
      "Epoch 10/10\n",
      "3016/3016 [==============================] - 6s 2ms/step - loss: 1.7921e-04 - val_loss: 2.8576e-04\n",
      "\n",
      "Train RMSE: 269.37098459496286\n",
      "Test RMSE: 201.36458451692118\n"
     ]
    }
   ],
   "source": [
    "epochs = 10\n",
    "model = Sequential()\n",
    "\n",
    "model.add(LSTM(4, input_shape=(1, look_back)))\n",
    "model.add(Dense(1))\n",
    "model.compile(loss=\"mean_squared_error\", optimizer=\"adam\")\n",
    "history = model.fit(X_train, Y_train, epochs=epochs, validation_split=0.25, batch_size=1)\n",
    "\n",
    "trainPredict = model.predict(X_train)\n",
    "testPredict = model.predict(X_test)\n",
    "\n",
    "trainPredict = scaler.inverse_transform(trainPredict)\n",
    "testPredict = scaler.inverse_transform(testPredict)\n",
    "\n",
    "Y_train = scaler.inverse_transform([Y_train])\n",
    "Y_test = scaler.inverse_transform([Y_test])\n",
    "\n",
    "trainRMSE = math.sqrt(mean_squared_error(Y_train[0], trainPredict[:,0]))\n",
    "testRMSE = math.sqrt(mean_squared_error(Y_test[0], testPredict[:,0]))\n",
    "\n",
    "print()\n",
    "print(f'Train RMSE: {trainRMSE}')\n",
    "print(f'Test RMSE: {testRMSE}')"
   ]
  },
  {
   "cell_type": "markdown",
   "metadata": {},
   "source": [
    "<font size=\"4\">Training & Validation Loss Curve</font>"
   ]
  },
  {
   "cell_type": "code",
   "execution_count": 38,
   "metadata": {},
   "outputs": [
    {
     "data": {
      "image/png": "[encoded data removed]",
      "text/plain": [
       "<Figure size 432x288 with 1 Axes>"
      ]
     },
     "metadata": {
      "needs_background": "light"
     },
     "output_type": "display_data"
    }
   ],
   "source": [
    "plt.plot(history.history['loss'])\n",
    "plt.plot(history.history['val_loss'])\n",
    "plt.title('Training and validation loss curves')\n",
    "plt.ylabel('loss')\n",
    "plt.xlabel('epoch')\n",
    "plt.legend(['train', 'validation'], loc='upper left')\n",
    "plt.show()"
   ]
  },
  {
   "cell_type": "markdown",
   "metadata": {},
   "source": [
    "<font size=\"5\">Model Testing</font>"
   ]
  },
  {
   "cell_type": "code",
   "execution_count": 39,
   "metadata": {},
   "outputs": [
    {
     "data": {
      "image/png": "[encoded data removed]",
      "text/plain": [
       "<Figure size 432x288 with 1 Axes>"
      ]
     },
     "metadata": {
      "needs_background": "light"
     },
     "output_type": "display_data"
    }
   ],
   "source": [
    "trainPredictPlot = np.empty_like(dataset)\n",
    "trainPredictPlot[ : , : ] = np.nan\n",
    "trainPredictPlot[look_back:len(trainPredict)+look_back, : ] = trainPredict\n",
    "\n",
    "testPredictPlot = np.empty_like(dataset)\n",
    "testPredictPlot[ : , : ] = np.nan\n",
    "testPredictPlot[len(trainPredict)+(look_back*2)+1:len(dataset)-1, : ] = testPredict\n",
    "\n",
    "data[\"USDIDR_Adj Close\"].plot(label=\"Actual Price\")\n",
    "plt.plot(data.index, trainPredictPlot, label=\"Train Prediction\")\n",
    "plt.plot(data.index, testPredictPlot, label=\"Test Prediction\")\n",
    "plt.xlabel(\"Date\")\n",
    "plt.ylabel(\"Price\")\n",
    "plt.title(\"USD to INR Exchange Rate Prediction\")\n",
    "plt.legend()\n",
    "plt.show()"
   ]
  }
 ],
 "metadata": {
  "interpreter": {
   "hash": "8b583847905e614d11fc971987e657172ea1aa5a6a7e5312955d72b643b7c6ed"
  },
  "kernelspec": {
   "display_name": "Python 3.7.0 64-bit",
   "name": "python3"
  },
  "language_info": {
   "codemirror_mode": {
    "name": "ipython",
    "version": 3
   },
   "file_extension": ".py",
   "mimetype": "text/x-python",
   "name": "python",
   "nbconvert_exporter": "python",
   "pygments_lexer": "ipython3",
   "version": "3.7.0"
  },
  "metadata": {
   "interpreter": {
    "hash": "8b583847905e614d11fc971987e657172ea1aa5a6a7e5312955d72b643b7c6ed"
   }
  },
  "orig_nbformat": 2
 },
 "nbformat": 4,
 "nbformat_minor": 2
}
